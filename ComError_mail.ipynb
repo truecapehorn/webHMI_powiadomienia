{
 "cells": [
  {
   "cell_type": "markdown",
   "metadata": {},
   "source": [
    "## pobrabnie danych z webHMI"
   ]
  },
  {
   "cell_type": "code",
   "execution_count": 1,
   "metadata": {},
   "outputs": [],
   "source": [
    "from API_webHMI import ApiWebHmi\n",
    "from settings import device_adress, APIKEY\n",
    "\n",
    "import pandas as pd\n",
    "import numpy as np"
   ]
  },
  {
   "cell_type": "code",
   "execution_count": 2,
   "metadata": {},
   "outputs": [],
   "source": [
    "pd.set_option('display.max_columns', None)  # or 1000\n",
    "pd.set_option('display.max_rows', None)  # or 1000\n",
    "pd.set_option('display.max_colwidth', -1)  # or 199"
   ]
  },
  {
   "cell_type": "code",
   "execution_count": 3,
   "metadata": {},
   "outputs": [],
   "source": [
    "# zamiana na inty\n",
    "def f(x):\n",
    "    try:\n",
    "        return x.astype('int')\n",
    "    except:\n",
    "        return x"
   ]
  },
  {
   "cell_type": "markdown",
   "metadata": {},
   "source": [
    "## Zrobinie obiektu webHMI"
   ]
  },
  {
   "cell_type": "code",
   "execution_count": 4,
   "metadata": {},
   "outputs": [],
   "source": [
    "web = ApiWebHmi(device_adress, APIKEY)"
   ]
  },
  {
   "cell_type": "markdown",
   "metadata": {},
   "source": [
    "## Odczytanie listy połaczen"
   ]
  },
  {
   "cell_type": "code",
   "execution_count": 5,
   "metadata": {},
   "outputs": [
    {
     "name": "stdout",
     "output_type": "stream",
     "text": [
      "Polaczenie na adres:  http://80.50.4.62:60043/api/connections\n"
     ]
    }
   ],
   "source": [
    "req1=web.make_req('connectionList')\n",
    "connections=pd.DataFrame(req1).set_index('id')"
   ]
  },
  {
   "cell_type": "markdown",
   "metadata": {},
   "source": [
    "## Odczytanie rejestru z bledami połaczen"
   ]
  },
  {
   "cell_type": "code",
   "execution_count": 6,
   "metadata": {},
   "outputs": [
    {
     "name": "stdout",
     "output_type": "stream",
     "text": [
      "Polaczenie na adres:  http://80.50.4.62:60043/api/register-values\n"
     ]
    }
   ],
   "source": [
    "X_WH_CONNS='262' # id polaczania z informacja\n",
    "val=web.make_req('getCurValue',X_WH_CONNS=X_WH_CONNS)"
   ]
  },
  {
   "cell_type": "markdown",
   "metadata": {},
   "source": [
    "## Odczytanie tablicy z scantime"
   ]
  },
  {
   "cell_type": "code",
   "execution_count": 7,
   "metadata": {},
   "outputs": [],
   "source": [
    "import ast\n",
    "scan_time=[ast.literal_eval(x) for x in val['4547']['v'].split(\";\")]"
   ]
  },
  {
   "cell_type": "markdown",
   "metadata": {},
   "source": [
    "## Stworzenie tablicy"
   ]
  },
  {
   "cell_type": "code",
   "execution_count": 8,
   "metadata": {},
   "outputs": [],
   "source": [
    "scan_dict={}\n",
    "for n,i in enumerate(scan_time):\n",
    "    scan_dict[n]={'ids':i[0],\n",
    "                  'title':connections.loc[str(i[0]),'title'],\n",
    "                  'category':connections.loc[str(i[0]),'category'],\n",
    "                  'timeout':connections.loc[str(i[0]),'timeout'],\n",
    "                  'disabled':connections.loc[str(i[0]),'disabled'],\n",
    "                  'scan_time':int(i[1])}"
   ]
  },
  {
   "cell_type": "code",
   "execution_count": 9,
   "metadata": {},
   "outputs": [],
   "source": [
    "scan_frame=pd.DataFrame(scan_dict,).T.apply(f) # zamiana na inty\n",
    "frame=scan_frame.sort_values('scan_time',ascending=False)"
   ]
  },
  {
   "cell_type": "code",
   "execution_count": 10,
   "metadata": {},
   "outputs": [],
   "source": [
    "pivot_sum=frame[['category','scan_time']].groupby('category').agg(['sum','mean'])"
   ]
  },
  {
   "cell_type": "code",
   "execution_count": 11,
   "metadata": {
    "scrolled": true
   },
   "outputs": [],
   "source": [
    "pivot_sum.sort_values(('scan_time','sum'),ascending=False,inplace=True)"
   ]
  },
  {
   "cell_type": "code",
   "execution_count": 12,
   "metadata": {},
   "outputs": [],
   "source": [
    "worsts=frame.set_index('ids').sort_values('scan_time',ascending=False).head(10)"
   ]
  },
  {
   "cell_type": "markdown",
   "metadata": {},
   "source": [
    "## Napisanie wiadomosci"
   ]
  },
  {
   "cell_type": "code",
   "execution_count": 13,
   "metadata": {},
   "outputs": [
    {
     "data": {
      "text/plain": [
       "'<h3>Brak problemow z połączeniami. :)</h3>'"
      ]
     },
     "execution_count": 13,
     "metadata": {},
     "output_type": "execute_result"
    }
   ],
   "source": [
    "connectio_problem=val['4546']['v'].split(\",\") # wiadomosc do zapisania\n",
    "errors=[]\n",
    "if len(connectio_problem)>1:\n",
    "    for i in connectio_problem:\n",
    "        title = connections.loc[i,'title']\n",
    "        errors.append(\"<li>Błąd połączenia z urządzeniem o id {} - {}</li>\".format(i,title ))\n",
    "else: errors.append(\"<h3>Brak problemow z połączeniami. :)</h3>\")\n",
    "\n",
    "mesages=\"\\n\".join(errors)\n",
    "mesages"
   ]
  },
  {
   "cell_type": "markdown",
   "metadata": {},
   "source": [
    "## Wyslanie maila"
   ]
  },
  {
   "cell_type": "code",
   "execution_count": 14,
   "metadata": {},
   "outputs": [],
   "source": [
    "from envelopes import Envelope, GMailSMTP\n",
    "import glob\n",
    "\n",
    "def send_emial(content):\n",
    "\n",
    "    addr=['tito02@o2.pl', 'norbert.jablonski@elam.pl']#,'michal.marchelewski@elam.pl']\n",
    "    for i in range(len(addr)):\n",
    "        print('Wysłanie wiadomosci do {}'.format(addr[i]))\n",
    "        envelope = Envelope(\n",
    "            from_addr=( u'WebHMI - Raport'),\n",
    "            to_addr=(addr[i]),\n",
    "            subject=u'Raport o komunikacji {} dla {}'.format(i+1,addr[i]),\n",
    "            html_body=email,\n",
    "        )\n",
    "        #envelope.add_attachment(str(atachment))\n",
    "\n",
    "    # Send the envelope using an ad-hoc connection...\n",
    "        send_msg=envelope.send('smtp.googlemail.com', login='truecapehorn@gmail.com',password='Ptjczinp249', tls=True,)\n",
    "        print('email do adresata. {} wysłany.'.format(addr[i]))  \n",
    "    return send_msg"
   ]
  },
  {
   "cell_type": "markdown",
   "metadata": {},
   "source": [
    "### Pobrnaie czasu"
   ]
  },
  {
   "cell_type": "code",
   "execution_count": 21,
   "metadata": {},
   "outputs": [
    {
     "name": "stdout",
     "output_type": "stream",
     "text": [
      "Polaczenie na adres:  http://80.50.4.62:60043/api/timeinfo\n"
     ]
    },
    {
     "data": {
      "text/plain": [
       "'2019/09/02, 12:04:28'"
      ]
     },
     "execution_count": 21,
     "metadata": {},
     "output_type": "execute_result"
    }
   ],
   "source": [
    "czas=web.make_req('getLocTime')\n",
    "czas=web.string_time(czas['timestamp']+7200)\n",
    "czas"
   ]
  },
  {
   "cell_type": "code",
   "execution_count": 19,
   "metadata": {},
   "outputs": [
    {
     "name": "stdout",
     "output_type": "stream",
     "text": [
      "<h2>2019/09/02, 10:01:49</h2><h2>WebHMI ma problemy z komunikacją dla następujących urządzeń:</h2>\n",
      "    \n",
      "<h3>Brak problemow z połączeniami. :)</h3>\n",
      "    \n",
      "<h4>Czasy skanowania</h4>\n",
      "    <table border=\"1\" class=\"dataframe\">\n",
      "  <thead>\n",
      "    <tr>\n",
      "      <th></th>\n",
      "      <th colspan=\"2\" halign=\"left\">scan_time</th>\n",
      "    </tr>\n",
      "    <tr>\n",
      "      <th></th>\n",
      "      <th>sum</th>\n",
      "      <th>mean</th>\n",
      "    </tr>\n",
      "    <tr>\n",
      "      <th>category</th>\n",
      "      <th></th>\n",
      "      <th></th>\n",
      "    </tr>\n",
      "  </thead>\n",
      "  <tbody>\n",
      "    <tr>\n",
      "      <th>0 RG</th>\n",
      "      <td>9705</td>\n",
      "      <td>206.489362</td>\n",
      "    </tr>\n",
      "    <tr>\n",
      "      <th>7 Mieszkanie</th>\n",
      "      <td>3551</td>\n",
      "      <td>67.000000</td>\n",
      "    </tr>\n",
      "    <tr>\n",
      "      <th>3 Mieszkanie</th>\n",
      "      <td>2980</td>\n",
      "      <td>129.565217</td>\n",
      "    </tr>\n",
      "    <tr>\n",
      "      <th>1 Mieszkanie</th>\n",
      "      <td>2819</td>\n",
      "      <td>90.935484</td>\n",
      "    </tr>\n",
      "    <tr>\n",
      "      <th>2 Mieszkanie</th>\n",
      "      <td>2340</td>\n",
      "      <td>66.857143</td>\n",
      "    </tr>\n",
      "    <tr>\n",
      "      <th>5 Mieszkanie</th>\n",
      "      <td>1944</td>\n",
      "      <td>102.315789</td>\n",
      "    </tr>\n",
      "    <tr>\n",
      "      <th>4 Mieszkanie</th>\n",
      "      <td>1814</td>\n",
      "      <td>86.380952</td>\n",
      "    </tr>\n",
      "    <tr>\n",
      "      <th>6 Mieszkanie</th>\n",
      "      <td>1625</td>\n",
      "      <td>77.380952</td>\n",
      "    </tr>\n",
      "    <tr>\n",
      "      <th>Bilans</th>\n",
      "      <td>0</td>\n",
      "      <td>0.000000</td>\n",
      "    </tr>\n",
      "    <tr>\n",
      "      <th>Solary</th>\n",
      "      <td>0</td>\n",
      "      <td>0.000000</td>\n",
      "    </tr>\n",
      "  </tbody>\n",
      "</table>\n",
      "    \n",
      "<h4>10 najgorszych</h4>\n",
      "    <table border=\"1\" class=\"dataframe\">\n",
      "  <thead>\n",
      "    <tr style=\"text-align: right;\">\n",
      "      <th></th>\n",
      "      <th>title</th>\n",
      "      <th>category</th>\n",
      "      <th>timeout</th>\n",
      "      <th>disabled</th>\n",
      "      <th>scan_time</th>\n",
      "    </tr>\n",
      "    <tr>\n",
      "      <th>ids</th>\n",
      "      <th></th>\n",
      "      <th></th>\n",
      "      <th></th>\n",
      "      <th></th>\n",
      "      <th></th>\n",
      "    </tr>\n",
      "  </thead>\n",
      "  <tbody>\n",
      "    <tr>\n",
      "      <th>247</th>\n",
      "      <td>Mbus Apators</td>\n",
      "      <td>0 RG</td>\n",
      "      <td>3000</td>\n",
      "      <td>0</td>\n",
      "      <td>1402</td>\n",
      "    </tr>\n",
      "    <tr>\n",
      "      <th>208</th>\n",
      "      <td>LE01_701.1</td>\n",
      "      <td>7 Mieszkanie</td>\n",
      "      <td>1000</td>\n",
      "      <td>0</td>\n",
      "      <td>978</td>\n",
      "    </tr>\n",
      "    <tr>\n",
      "      <th>203</th>\n",
      "      <td>LE01_303.3</td>\n",
      "      <td>3 Mieszkanie</td>\n",
      "      <td>1000</td>\n",
      "      <td>0</td>\n",
      "      <td>915</td>\n",
      "    </tr>\n",
      "    <tr>\n",
      "      <th>204</th>\n",
      "      <td>LE01_401.1</td>\n",
      "      <td>4 Mieszkanie</td>\n",
      "      <td>1000</td>\n",
      "      <td>0</td>\n",
      "      <td>802</td>\n",
      "    </tr>\n",
      "    <tr>\n",
      "      <th>211</th>\n",
      "      <td>LE03_02.2</td>\n",
      "      <td>0 RG</td>\n",
      "      <td>5000</td>\n",
      "      <td>0</td>\n",
      "      <td>682</td>\n",
      "    </tr>\n",
      "    <tr>\n",
      "      <th>212</th>\n",
      "      <td>LE03_03.3</td>\n",
      "      <td>0 RG</td>\n",
      "      <td>5000</td>\n",
      "      <td>0</td>\n",
      "      <td>672</td>\n",
      "    </tr>\n",
      "    <tr>\n",
      "      <th>249</th>\n",
      "      <td>LE03_27.26</td>\n",
      "      <td>0 RG</td>\n",
      "      <td>5000</td>\n",
      "      <td>0</td>\n",
      "      <td>671</td>\n",
      "    </tr>\n",
      "    <tr>\n",
      "      <th>218</th>\n",
      "      <td>LE03_09.9</td>\n",
      "      <td>0 RG</td>\n",
      "      <td>5000</td>\n",
      "      <td>0</td>\n",
      "      <td>671</td>\n",
      "    </tr>\n",
      "    <tr>\n",
      "      <th>216</th>\n",
      "      <td>LE03_07.7</td>\n",
      "      <td>0 RG</td>\n",
      "      <td>5000</td>\n",
      "      <td>0</td>\n",
      "      <td>670</td>\n",
      "    </tr>\n",
      "    <tr>\n",
      "      <th>217</th>\n",
      "      <td>LE03_08.8</td>\n",
      "      <td>0 RG</td>\n",
      "      <td>5000</td>\n",
      "      <td>0</td>\n",
      "      <td>669</td>\n",
      "    </tr>\n",
      "  </tbody>\n",
      "</table>\n",
      "    \n",
      "Wysłanie wiadomosci do tito02@o2.pl\n",
      "email do adresata. tito02@o2.pl wysłany.\n",
      "Wysłanie wiadomosci do norbert.jablonski@elam.pl\n",
      "email do adresata. norbert.jablonski@elam.pl wysłany.\n"
     ]
    }
   ],
   "source": [
    "if len(connectio_problem)>0:\n",
    "    email=u\"\"\"<h2>{}</h2><h2>WebHMI ma problemy z komunikacją dla następujących urządzeń:</h2>\n",
    "    \\n{}\n",
    "    \\n<h4>Czasy skanowania</h4>\n",
    "    {}\n",
    "    \\n<h4>10 najgorszych</h4>\n",
    "    {}\n",
    "    \"\"\".format(czas,mesages,pivot_sum.to_html(),worsts.to_html())\n",
    "\n",
    "    print(email)\n",
    "    send_msg=send_emial(email)"
   ]
  },
  {
   "cell_type": "code",
   "execution_count": null,
   "metadata": {},
   "outputs": [],
   "source": []
  }
 ],
 "metadata": {
  "kernelspec": {
   "display_name": "Python 3",
   "language": "python",
   "name": "python3"
  },
  "language_info": {
   "codemirror_mode": {
    "name": "ipython",
    "version": 3
   },
   "file_extension": ".py",
   "mimetype": "text/x-python",
   "name": "python",
   "nbconvert_exporter": "python",
   "pygments_lexer": "ipython3",
   "version": "3.7.3"
  }
 },
 "nbformat": 4,
 "nbformat_minor": 2
}
