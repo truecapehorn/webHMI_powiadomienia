{
 "cells": [
  {
   "cell_type": "markdown",
   "metadata": {},
   "source": [
    "## pobrabnie danych z webHMI"
   ]
  },
  {
   "cell_type": "code",
   "execution_count": 1,
   "metadata": {},
   "outputs": [],
   "source": [
    "from API_webHMI import *\n",
    "from defs import *\n",
    "from head import headers, device_adress,filepath\n",
    "import pandas as pd\n",
    "import numpy as np"
   ]
  },
  {
   "cell_type": "code",
   "execution_count": 2,
   "metadata": {},
   "outputs": [],
   "source": [
    "pd.set_option('display.max_columns', None)  # or 1000\n",
    "pd.set_option('display.max_rows', None)  # or 1000\n",
    "pd.set_option('display.max_colwidth', -1)  # or 199"
   ]
  },
  {
   "cell_type": "code",
   "execution_count": 3,
   "metadata": {},
   "outputs": [
    {
     "data": {
      "text/plain": [
       "'/home/norbert/python_scripts/webHMI_powiadomienia/setup.json'"
      ]
     },
     "execution_count": 3,
     "metadata": {},
     "output_type": "execute_result"
    }
   ],
   "source": [
    "filepath"
   ]
  },
  {
   "cell_type": "markdown",
   "metadata": {},
   "source": [
    "## Odczytanie listy połaczen"
   ]
  },
  {
   "cell_type": "code",
   "execution_count": 4,
   "metadata": {},
   "outputs": [
    {
     "name": "stdout",
     "output_type": "stream",
     "text": [
      "1: Connection Req\n",
      "\n"
     ]
    }
   ],
   "source": [
    "def conn():\n",
    "    print('1: Connection Req\\n')\n",
    "#     displayHeader(headers)\n",
    "    req1 = connectionList(device_adress, headers)  # pobranie listy polaczen plc.\n",
    "    return req1\n",
    "connections=pd.DataFrame(conn()).set_index('id')"
   ]
  },
  {
   "cell_type": "code",
   "execution_count": 5,
   "metadata": {},
   "outputs": [],
   "source": [
    "def f(x):\n",
    "    try:\n",
    "        return x.astype('int')\n",
    "    except:\n",
    "        return x"
   ]
  },
  {
   "cell_type": "markdown",
   "metadata": {},
   "source": [
    "## Odczytanie listy rejstrow"
   ]
  },
  {
   "cell_type": "code",
   "execution_count": 6,
   "metadata": {},
   "outputs": [],
   "source": [
    "def reg():\n",
    "    print('\\n2 :Registers Req\\n')\n",
    "#     displayHeader(headers)  # wystarczy podstawowy naglowek\n",
    "    req2 = registerList(device_adress, headers)  # odczytanie listy rejestrow\n",
    "    return req2\n",
    "# registers=pd.DataFrame(reg())\n",
    "# registers.shape"
   ]
  },
  {
   "cell_type": "markdown",
   "metadata": {},
   "source": [
    "## Odczytanie rejestru z bledami połaczen"
   ]
  },
  {
   "cell_type": "code",
   "execution_count": 7,
   "metadata": {},
   "outputs": [],
   "source": [
    "def reg_val(device_adress, headers):\n",
    "    print('1: Connection Req\\n')\n",
    "#     displayHeader(headers)\n",
    "    req1 = getCurValue(device_adress, headers)  # pobranie listy polaczen plc.\n",
    "    return req1"
   ]
  },
  {
   "cell_type": "code",
   "execution_count": 8,
   "metadata": {
    "scrolled": true
   },
   "outputs": [
    {
     "name": "stdout",
     "output_type": "stream",
     "text": [
      "1: Connection Req\n",
      "\n"
     ]
    }
   ],
   "source": [
    "header1=headers\n",
    "header1['X-WH-CONNS']='262' # 262 to numer polaczenia w webHMI\n",
    "val=reg_val(device_adress,header1)"
   ]
  },
  {
   "cell_type": "markdown",
   "metadata": {},
   "source": [
    "## Odczytanie tablicy z scantime"
   ]
  },
  {
   "cell_type": "code",
   "execution_count": 9,
   "metadata": {},
   "outputs": [],
   "source": [
    "import ast\n",
    "scan_time=[ast.literal_eval(x) for x in val['4547']['v'].split(\";\")]"
   ]
  },
  {
   "cell_type": "markdown",
   "metadata": {},
   "source": [
    "## Stworzenie tablicy"
   ]
  },
  {
   "cell_type": "code",
   "execution_count": 10,
   "metadata": {},
   "outputs": [],
   "source": [
    "scan_dict={}\n",
    "for n,i in enumerate(scan_time):\n",
    "    scan_dict[n]={'ids':i[0],\n",
    "                  'title':connections.loc[str(i[0]),'title'],\n",
    "                  'category':connections.loc[str(i[0]),'category'],\n",
    "                  'timeout':connections.loc[str(i[0]),'timeout'],\n",
    "                  'disabled':connections.loc[str(i[0]),'disabled'],\n",
    "                  'scan_time':int(i[1])}"
   ]
  },
  {
   "cell_type": "code",
   "execution_count": 11,
   "metadata": {},
   "outputs": [],
   "source": [
    "scan_frame=pd.DataFrame(scan_dict,).T.apply(f)\n",
    "frame=scan_frame.sort_values('scan_time',ascending=False)"
   ]
  },
  {
   "cell_type": "code",
   "execution_count": 12,
   "metadata": {},
   "outputs": [],
   "source": [
    "pivot_sum=frame[['category','scan_time']].groupby('category').agg(['sum','mean'])"
   ]
  },
  {
   "cell_type": "code",
   "execution_count": 13,
   "metadata": {
    "scrolled": true
   },
   "outputs": [],
   "source": [
    "pivot_sum.sort_values(('scan_time','sum'),ascending=False,inplace=True)"
   ]
  },
  {
   "cell_type": "code",
   "execution_count": 15,
   "metadata": {},
   "outputs": [
    {
     "data": {
      "text/html": [
       "<div>\n",
       "<style scoped>\n",
       "    .dataframe tbody tr th:only-of-type {\n",
       "        vertical-align: middle;\n",
       "    }\n",
       "\n",
       "    .dataframe tbody tr th {\n",
       "        vertical-align: top;\n",
       "    }\n",
       "\n",
       "    .dataframe thead th {\n",
       "        text-align: right;\n",
       "    }\n",
       "</style>\n",
       "<table border=\"1\" class=\"dataframe\">\n",
       "  <thead>\n",
       "    <tr style=\"text-align: right;\">\n",
       "      <th></th>\n",
       "      <th>title</th>\n",
       "      <th>category</th>\n",
       "      <th>timeout</th>\n",
       "      <th>disabled</th>\n",
       "      <th>scan_time</th>\n",
       "    </tr>\n",
       "    <tr>\n",
       "      <th>ids</th>\n",
       "      <th></th>\n",
       "      <th></th>\n",
       "      <th></th>\n",
       "      <th></th>\n",
       "      <th></th>\n",
       "    </tr>\n",
       "  </thead>\n",
       "  <tbody>\n",
       "    <tr>\n",
       "      <td>247</td>\n",
       "      <td>Mbus Apators</td>\n",
       "      <td>0 RG</td>\n",
       "      <td>3000</td>\n",
       "      <td>0</td>\n",
       "      <td>1402</td>\n",
       "    </tr>\n",
       "    <tr>\n",
       "      <td>249</td>\n",
       "      <td>LE03_27.26</td>\n",
       "      <td>0 RG</td>\n",
       "      <td>5000</td>\n",
       "      <td>0</td>\n",
       "      <td>671</td>\n",
       "    </tr>\n",
       "    <tr>\n",
       "      <td>211</td>\n",
       "      <td>LE03_02.2</td>\n",
       "      <td>0 RG</td>\n",
       "      <td>5000</td>\n",
       "      <td>0</td>\n",
       "      <td>669</td>\n",
       "    </tr>\n",
       "    <tr>\n",
       "      <td>214</td>\n",
       "      <td>LE03_05.5</td>\n",
       "      <td>0 RG</td>\n",
       "      <td>5000</td>\n",
       "      <td>0</td>\n",
       "      <td>669</td>\n",
       "    </tr>\n",
       "    <tr>\n",
       "      <td>217</td>\n",
       "      <td>LE03_08.8</td>\n",
       "      <td>0 RG</td>\n",
       "      <td>5000</td>\n",
       "      <td>0</td>\n",
       "      <td>661</td>\n",
       "    </tr>\n",
       "    <tr>\n",
       "      <td>216</td>\n",
       "      <td>LE03_07.7</td>\n",
       "      <td>0 RG</td>\n",
       "      <td>5000</td>\n",
       "      <td>0</td>\n",
       "      <td>660</td>\n",
       "    </tr>\n",
       "    <tr>\n",
       "      <td>218</td>\n",
       "      <td>LE03_09.9</td>\n",
       "      <td>0 RG</td>\n",
       "      <td>5000</td>\n",
       "      <td>0</td>\n",
       "      <td>659</td>\n",
       "    </tr>\n",
       "    <tr>\n",
       "      <td>215</td>\n",
       "      <td>LE03_06.6</td>\n",
       "      <td>0 RG</td>\n",
       "      <td>5000</td>\n",
       "      <td>0</td>\n",
       "      <td>659</td>\n",
       "    </tr>\n",
       "    <tr>\n",
       "      <td>212</td>\n",
       "      <td>LE03_03.3</td>\n",
       "      <td>0 RG</td>\n",
       "      <td>5000</td>\n",
       "      <td>0</td>\n",
       "      <td>659</td>\n",
       "    </tr>\n",
       "    <tr>\n",
       "      <td>213</td>\n",
       "      <td>LE03_04.4</td>\n",
       "      <td>0 RG</td>\n",
       "      <td>5000</td>\n",
       "      <td>0</td>\n",
       "      <td>631</td>\n",
       "    </tr>\n",
       "  </tbody>\n",
       "</table>\n",
       "</div>"
      ],
      "text/plain": [
       "            title category  timeout  disabled  scan_time\n",
       "ids                                                     \n",
       "247  Mbus Apators  0 RG     3000     0         1402     \n",
       "249  LE03_27.26    0 RG     5000     0         671      \n",
       "211  LE03_02.2     0 RG     5000     0         669      \n",
       "214  LE03_05.5     0 RG     5000     0         669      \n",
       "217  LE03_08.8     0 RG     5000     0         661      \n",
       "216  LE03_07.7     0 RG     5000     0         660      \n",
       "218  LE03_09.9     0 RG     5000     0         659      \n",
       "215  LE03_06.6     0 RG     5000     0         659      \n",
       "212  LE03_03.3     0 RG     5000     0         659      \n",
       "213  LE03_04.4     0 RG     5000     0         631      "
      ]
     },
     "execution_count": 15,
     "metadata": {},
     "output_type": "execute_result"
    }
   ],
   "source": [
    "worsts=frame.set_index('ids').sort_values('scan_time',ascending=False).head(10)"
   ]
  },
  {
   "cell_type": "markdown",
   "metadata": {},
   "source": [
    "## Nadpisanie pliku wiadomosci"
   ]
  },
  {
   "cell_type": "code",
   "execution_count": 16,
   "metadata": {},
   "outputs": [],
   "source": [
    "connectio_problem=val['4546']['v'].split(\",\") # wiadomosc do zapisania\n",
    "with open('mail_message.txt', 'w')  as w_writer:\n",
    "    if len(connectio_problem)>1:\n",
    "        for i in connectio_problem:\n",
    "            title = connections.loc[i,'title']\n",
    "#             print(\"Błąd połączenia nr {} - {}\\n\".format(i,title ))\n",
    "            mesages=\"<p>Błąd połączenia nr {} - {}</p>\\n\".format(i,title )\n",
    "            w_writer.write(mesages)\n",
    "    else: w_writer.write('<h3>Brak problemow z połączeniami. :)</h3>\\n\\n')\n",
    "        "
   ]
  },
  {
   "cell_type": "markdown",
   "metadata": {},
   "source": [
    "## Wyslanie maila"
   ]
  },
  {
   "cell_type": "code",
   "execution_count": 17,
   "metadata": {},
   "outputs": [],
   "source": [
    "from envelopes import Envelope, GMailSMTP\n",
    "import glob\n",
    "\n",
    "def send_emial(content):\n",
    "\n",
    "    addr=['tito02@o2.pl']#, 'norbert.jablonski@elam.pl','michal.marchelewski@elam.pl']\n",
    "    for i in range(len(addr)):\n",
    "        print('Wysłanie wiadomosci do {}'.format(addr[i]))\n",
    "        envelope = Envelope(\n",
    "            from_addr=( u'WebHMI - Raport'),\n",
    "            to_addr=(addr[i]),\n",
    "            subject=u'Raport o komunikacji {} dla {}'.format(i+1,addr[i]),\n",
    "            html_body=email,\n",
    "#             text_body=email\n",
    "        )\n",
    "        #envelope.add_attachment(str(atachment))\n",
    "\n",
    "    # Send the envelope using an ad-hoc connection...\n",
    "        send_msg=envelope.send('smtp.googlemail.com', login='truecapehorn@gmail.com',password='Ptjczinp249', tls=True,)\n",
    "        print('email do adresata. {} wysłany.'.format(addr[i]))  \n",
    "    return send_msg"
   ]
  },
  {
   "cell_type": "code",
   "execution_count": null,
   "metadata": {},
   "outputs": [],
   "source": []
  },
  {
   "cell_type": "code",
   "execution_count": 18,
   "metadata": {},
   "outputs": [
    {
     "name": "stdout",
     "output_type": "stream",
     "text": [
      "<h2>WebHMI ma problemy z komunikacją dla następujących urządzeń:</h2>\n",
      "<h3>Brak problemow z połączeniami. :)</h3>\n",
      "\n",
      "\n",
      "<h4>Czasy skanowania</h4>\n",
      "<table border=\"1\" class=\"dataframe\">\n",
      "  <thead>\n",
      "    <tr>\n",
      "      <th></th>\n",
      "      <th colspan=\"2\" halign=\"left\">scan_time</th>\n",
      "    </tr>\n",
      "    <tr>\n",
      "      <th></th>\n",
      "      <th>sum</th>\n",
      "      <th>mean</th>\n",
      "    </tr>\n",
      "    <tr>\n",
      "      <th>category</th>\n",
      "      <th></th>\n",
      "      <th></th>\n",
      "    </tr>\n",
      "  </thead>\n",
      "  <tbody>\n",
      "    <tr>\n",
      "      <th>0 RG</th>\n",
      "      <td>9653</td>\n",
      "      <td>205.382979</td>\n",
      "    </tr>\n",
      "    <tr>\n",
      "      <th>7 Mieszkanie</th>\n",
      "      <td>3164</td>\n",
      "      <td>59.698113</td>\n",
      "    </tr>\n",
      "    <tr>\n",
      "      <th>1 Mieszkanie</th>\n",
      "      <td>2776</td>\n",
      "      <td>89.548387</td>\n",
      "    </tr>\n",
      "    <tr>\n",
      "      <th>3 Mieszkanie</th>\n",
      "      <td>2591</td>\n",
      "      <td>112.652174</td>\n",
      "    </tr>\n",
      "    <tr>\n",
      "      <th>2 Mieszkanie</th>\n",
      "      <td>2332</td>\n",
      "      <td>66.628571</td>\n",
      "    </tr>\n",
      "    <tr>\n",
      "      <th>5 Mieszkanie</th>\n",
      "      <td>1959</td>\n",
      "      <td>103.105263</td>\n",
      "    </tr>\n",
      "    <tr>\n",
      "      <th>4 Mieszkanie</th>\n",
      "      <td>1592</td>\n",
      "      <td>75.809524</td>\n",
      "    </tr>\n",
      "    <tr>\n",
      "      <th>6 Mieszkanie</th>\n",
      "      <td>1574</td>\n",
      "      <td>74.952381</td>\n",
      "    </tr>\n",
      "    <tr>\n",
      "      <th>Bilans</th>\n",
      "      <td>0</td>\n",
      "      <td>0.000000</td>\n",
      "    </tr>\n",
      "    <tr>\n",
      "      <th>Solary</th>\n",
      "      <td>0</td>\n",
      "      <td>0.000000</td>\n",
      "    </tr>\n",
      "  </tbody>\n",
      "</table>\n",
      "<h4>10 najgorszych</h4><table border=\"1\" class=\"dataframe\">\n",
      "  <thead>\n",
      "    <tr style=\"text-align: right;\">\n",
      "      <th></th>\n",
      "      <th>title</th>\n",
      "      <th>category</th>\n",
      "      <th>timeout</th>\n",
      "      <th>disabled</th>\n",
      "      <th>scan_time</th>\n",
      "    </tr>\n",
      "    <tr>\n",
      "      <th>ids</th>\n",
      "      <th></th>\n",
      "      <th></th>\n",
      "      <th></th>\n",
      "      <th></th>\n",
      "      <th></th>\n",
      "    </tr>\n",
      "  </thead>\n",
      "  <tbody>\n",
      "    <tr>\n",
      "      <th>247</th>\n",
      "      <td>Mbus Apators</td>\n",
      "      <td>0 RG</td>\n",
      "      <td>3000</td>\n",
      "      <td>0</td>\n",
      "      <td>1402</td>\n",
      "    </tr>\n",
      "    <tr>\n",
      "      <th>249</th>\n",
      "      <td>LE03_27.26</td>\n",
      "      <td>0 RG</td>\n",
      "      <td>5000</td>\n",
      "      <td>0</td>\n",
      "      <td>671</td>\n",
      "    </tr>\n",
      "    <tr>\n",
      "      <th>211</th>\n",
      "      <td>LE03_02.2</td>\n",
      "      <td>0 RG</td>\n",
      "      <td>5000</td>\n",
      "      <td>0</td>\n",
      "      <td>669</td>\n",
      "    </tr>\n",
      "    <tr>\n",
      "      <th>214</th>\n",
      "      <td>LE03_05.5</td>\n",
      "      <td>0 RG</td>\n",
      "      <td>5000</td>\n",
      "      <td>0</td>\n",
      "      <td>669</td>\n",
      "    </tr>\n",
      "    <tr>\n",
      "      <th>217</th>\n",
      "      <td>LE03_08.8</td>\n",
      "      <td>0 RG</td>\n",
      "      <td>5000</td>\n",
      "      <td>0</td>\n",
      "      <td>661</td>\n",
      "    </tr>\n",
      "    <tr>\n",
      "      <th>216</th>\n",
      "      <td>LE03_07.7</td>\n",
      "      <td>0 RG</td>\n",
      "      <td>5000</td>\n",
      "      <td>0</td>\n",
      "      <td>660</td>\n",
      "    </tr>\n",
      "    <tr>\n",
      "      <th>218</th>\n",
      "      <td>LE03_09.9</td>\n",
      "      <td>0 RG</td>\n",
      "      <td>5000</td>\n",
      "      <td>0</td>\n",
      "      <td>659</td>\n",
      "    </tr>\n",
      "    <tr>\n",
      "      <th>215</th>\n",
      "      <td>LE03_06.6</td>\n",
      "      <td>0 RG</td>\n",
      "      <td>5000</td>\n",
      "      <td>0</td>\n",
      "      <td>659</td>\n",
      "    </tr>\n",
      "    <tr>\n",
      "      <th>212</th>\n",
      "      <td>LE03_03.3</td>\n",
      "      <td>0 RG</td>\n",
      "      <td>5000</td>\n",
      "      <td>0</td>\n",
      "      <td>659</td>\n",
      "    </tr>\n",
      "    <tr>\n",
      "      <th>213</th>\n",
      "      <td>LE03_04.4</td>\n",
      "      <td>0 RG</td>\n",
      "      <td>5000</td>\n",
      "      <td>0</td>\n",
      "      <td>631</td>\n",
      "    </tr>\n",
      "  </tbody>\n",
      "</table>\n",
      "Wysłanie wiadomosci do tito02@o2.pl\n",
      "email do adresata. tito02@o2.pl wysłany.\n"
     ]
    }
   ],
   "source": [
    "if len(connectio_problem)>0:\n",
    "    with open('mail_message.txt', 'r') as content_file:\n",
    "        content = content_file.read()\n",
    "        email= u\"<h2>WebHMI ma problemy z komunikacją dla następujących urządzeń:</h2>\\n{}\\n<h4>Czasy skanowania</h4>\\n{}\\n<h4>10 najgorszych</h4>{}\".format(str(content),\n",
    "                                                                                                                                      pivot_sum.to_html(),\n",
    "                                                                                                                                     worsts.to_html())\n",
    "        print(email)\n",
    "        send_msg=send_emial(email)"
   ]
  },
  {
   "cell_type": "code",
   "execution_count": null,
   "metadata": {},
   "outputs": [],
   "source": []
  },
  {
   "cell_type": "code",
   "execution_count": null,
   "metadata": {},
   "outputs": [],
   "source": []
  }
 ],
 "metadata": {
  "kernelspec": {
   "display_name": "Python 3",
   "language": "python",
   "name": "python3"
  },
  "language_info": {
   "codemirror_mode": {
    "name": "ipython",
    "version": 3
   },
   "file_extension": ".py",
   "mimetype": "text/x-python",
   "name": "python",
   "nbconvert_exporter": "python",
   "pygments_lexer": "ipython3",
   "version": "3.7.3"
  }
 },
 "nbformat": 4,
 "nbformat_minor": 2
}
