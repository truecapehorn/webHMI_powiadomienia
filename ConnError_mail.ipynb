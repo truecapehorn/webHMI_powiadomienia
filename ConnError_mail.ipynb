{
 "cells": [
  {
   "cell_type": "markdown",
   "metadata": {},
   "source": [
    "## pobrabnie danych z webHMI"
   ]
  },
  {
   "cell_type": "code",
   "execution_count": 1,
   "metadata": {},
   "outputs": [],
   "source": [
    "from API_webHMI import *\n",
    "from defs import *\n",
    "from head import headers, device_adress,filepath\n",
    "import pandas as pd"
   ]
  },
  {
   "cell_type": "code",
   "execution_count": 2,
   "metadata": {},
   "outputs": [],
   "source": [
    "pd.set_option('display.max_columns', None)\n",
    "pd.set_option('display.max_rows', None)"
   ]
  },
  {
   "cell_type": "code",
   "execution_count": 3,
   "metadata": {},
   "outputs": [
    {
     "data": {
      "text/plain": [
       "'/home/norbert/python_scripts/webHMI_powiadomienia/setup.json'"
      ]
     },
     "execution_count": 3,
     "metadata": {},
     "output_type": "execute_result"
    }
   ],
   "source": [
    "filepath"
   ]
  },
  {
   "cell_type": "markdown",
   "metadata": {},
   "source": [
    "## Odczytanie listy połaczen"
   ]
  },
  {
   "cell_type": "code",
   "execution_count": 4,
   "metadata": {},
   "outputs": [
    {
     "name": "stdout",
     "output_type": "stream",
     "text": [
      "1: Connection Req\n",
      "\n"
     ]
    }
   ],
   "source": [
    "def conn():\n",
    "    print('1: Connection Req\\n')\n",
    "#     displayHeader(headers)\n",
    "    req1 = connectionList(device_adress, headers)  # pobranie listy polaczen plc.\n",
    "    return req1\n",
    "connections=pd.DataFrame(conn())"
   ]
  },
  {
   "cell_type": "markdown",
   "metadata": {},
   "source": [
    "## Odczytanie listy rejstrow"
   ]
  },
  {
   "cell_type": "code",
   "execution_count": 5,
   "metadata": {},
   "outputs": [],
   "source": [
    "def reg():\n",
    "    print('\\n2 :Registers Req\\n')\n",
    "#     displayHeader(headers)  # wystarczy podstawowy naglowek\n",
    "    req2 = registerList(device_adress, headers)  # odczytanie listy rejestrow\n",
    "    return req2\n",
    "# registers=pd.DataFrame(reg())\n",
    "# registers.shape"
   ]
  },
  {
   "cell_type": "markdown",
   "metadata": {},
   "source": [
    "## Odczytanie rejestru z bledami połaczen"
   ]
  },
  {
   "cell_type": "code",
   "execution_count": 6,
   "metadata": {},
   "outputs": [],
   "source": [
    "def reg_val(device_adress, headers):\n",
    "    print('1: Connection Req\\n')\n",
    "#     displayHeader(headers)\n",
    "    req1 = getCurValue(device_adress, headers)  # pobranie listy polaczen plc.\n",
    "    return req1"
   ]
  },
  {
   "cell_type": "code",
   "execution_count": 7,
   "metadata": {
    "scrolled": true
   },
   "outputs": [
    {
     "name": "stdout",
     "output_type": "stream",
     "text": [
      "1: Connection Req\n",
      "\n"
     ]
    },
    {
     "data": {
      "text/plain": [
       "{'4546': {'r': '4546', 's': 'u', 'v': ''}}"
      ]
     },
     "execution_count": 7,
     "metadata": {},
     "output_type": "execute_result"
    }
   ],
   "source": [
    "header1=headers\n",
    "header1['X-WH-CONNS']='262'\n",
    "val=reg_val(device_adress,header1)\n",
    "val"
   ]
  },
  {
   "cell_type": "markdown",
   "metadata": {},
   "source": [
    "## Nadpisanie pliku wiadomosci"
   ]
  },
  {
   "cell_type": "code",
   "execution_count": 8,
   "metadata": {},
   "outputs": [],
   "source": [
    "connectio_problem=val['4546']['v'].split(\",\") # wiadomosc do zapisania\n",
    "with open('mail_message.txt', 'w')  as w_writer:\n",
    "    if len(connectio_problem)>1:\n",
    "        for i in connectio_problem:\n",
    "            title = connections.loc[i,'title']\n",
    "            print(\"Błąd połaczenia nr. {} - {}\".format(i,title ))\n",
    "            mesages=\"Błąd połaczenia nr {} - {}\\n\".format(i,title )\n",
    "            w_writer.write(mesages)\n",
    "    else: w_writer.write('Brak problemow z połaczeniami. :)')\n",
    "        "
   ]
  },
  {
   "cell_type": "markdown",
   "metadata": {},
   "source": [
    "## Wyslanie maila"
   ]
  },
  {
   "cell_type": "code",
   "execution_count": 9,
   "metadata": {},
   "outputs": [],
   "source": [
    "from envelopes import Envelope, GMailSMTP\n",
    "import glob\n",
    "\n",
    "def send_emial(content):\n",
    "\n",
    "    addr=['tito02@o2.pl', 'norbert.jablonski@elam.pl',]\n",
    "    email= u\"WebHMI ma problemy z komunikacją dla następujących urządzeń:\\n{}\".format(str(content))\n",
    "    for i in range(len(addr)):\n",
    "        print('Wysłanie wiadomosci do {}'.format(addr[i]))\n",
    "        envelope = Envelope(\n",
    "            from_addr=( u'WebHMI - Raport'),\n",
    "            to_addr=(addr[i]),\n",
    "            subject=u'Raport o komunikacji {} dla {}'.format(i+1,addr[i]),\n",
    "            text_body=email\n",
    "        )\n",
    "        #envelope.add_attachment(str(atachment))\n",
    "\n",
    "    # Send the envelope using an ad-hoc connection...\n",
    "        envelope.send('smtp.googlemail.com', login='truecapehorn@gmail.com',password='Ptjczinp249', tls=True)\n",
    "        print('email do adresata. {} wysłany.'.format(addr[i]))"
   ]
  },
  {
   "cell_type": "code",
   "execution_count": 10,
   "metadata": {},
   "outputs": [
    {
     "name": "stdout",
     "output_type": "stream",
     "text": [
      "Wysłanie wiadomosci do tito02@o2.pl\n",
      "email do adresata. tito02@o2.pl wysłany.\n",
      "Wysłanie wiadomosci do norbert.jablonski@elam.pl\n",
      "email do adresata. norbert.jablonski@elam.pl wysłany.\n"
     ]
    }
   ],
   "source": [
    "if len(connectio_problem)>0:\n",
    "    with open('mail_message.txt', 'r') as content_file:\n",
    "        content = content_file.read()\n",
    "        send_emial(content)"
   ]
  },
  {
   "cell_type": "code",
   "execution_count": null,
   "metadata": {},
   "outputs": [],
   "source": []
  },
  {
   "cell_type": "code",
   "execution_count": null,
   "metadata": {},
   "outputs": [],
   "source": []
  },
  {
   "cell_type": "code",
   "execution_count": null,
   "metadata": {},
   "outputs": [],
   "source": []
  },
  {
   "cell_type": "code",
   "execution_count": null,
   "metadata": {},
   "outputs": [],
   "source": []
  },
  {
   "cell_type": "code",
   "execution_count": null,
   "metadata": {},
   "outputs": [],
   "source": []
  },
  {
   "cell_type": "code",
   "execution_count": null,
   "metadata": {},
   "outputs": [],
   "source": []
  },
  {
   "cell_type": "code",
   "execution_count": null,
   "metadata": {},
   "outputs": [],
   "source": []
  },
  {
   "cell_type": "code",
   "execution_count": null,
   "metadata": {},
   "outputs": [],
   "source": []
  }
 ],
 "metadata": {
  "kernelspec": {
   "display_name": "Python 3",
   "language": "python",
   "name": "python3"
  },
  "language_info": {
   "codemirror_mode": {
    "name": "ipython",
    "version": 3
   },
   "file_extension": ".py",
   "mimetype": "text/x-python",
   "name": "python",
   "nbconvert_exporter": "python",
   "pygments_lexer": "ipython3",
   "version": "3.7.3"
  }
 },
 "nbformat": 4,
 "nbformat_minor": 2
}
