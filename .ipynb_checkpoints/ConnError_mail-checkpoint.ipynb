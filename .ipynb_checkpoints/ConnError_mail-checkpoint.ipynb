{
 "cells": [
  {
   "cell_type": "markdown",
   "metadata": {},
   "source": [
    "## pobrabnie danych z webHMI"
   ]
  },
  {
   "cell_type": "code",
   "execution_count": 1,
   "metadata": {},
   "outputs": [],
   "source": [
    "from API_webHMI import *\n",
    "from defs import *\n",
    "from head import headers, device_adress,filepath\n",
    "import pandas as pd"
   ]
  },
  {
   "cell_type": "code",
   "execution_count": 2,
   "metadata": {},
   "outputs": [],
   "source": [
    "pd.set_option('display.max_columns', None)  # or 1000\n",
    "pd.set_option('display.max_rows', None)  # or 1000\n",
    "pd.set_option('display.max_colwidth', -1)  # or 199"
   ]
  },
  {
   "cell_type": "code",
   "execution_count": 3,
   "metadata": {},
   "outputs": [
    {
     "data": {
      "text/plain": [
       "'C:\\\\Users\\\\User\\\\python_scripts\\\\webHMI_powiadomienia/setup.json'"
      ]
     },
     "execution_count": 3,
     "metadata": {},
     "output_type": "execute_result"
    }
   ],
   "source": [
    "filepath"
   ]
  },
  {
   "cell_type": "markdown",
   "metadata": {},
   "source": [
    "## Odczytanie listy połaczen"
   ]
  },
  {
   "cell_type": "code",
   "execution_count": 4,
   "metadata": {},
   "outputs": [
    {
     "name": "stdout",
     "output_type": "stream",
     "text": [
      "1: Connection Req\n",
      "\n"
     ]
    }
   ],
   "source": [
    "def conn():\n",
    "    print('1: Connection Req\\n')\n",
    "#     displayHeader(headers)\n",
    "    req1 = connectionList(device_adress, headers)  # pobranie listy polaczen plc.\n",
    "    return req1\n",
    "connections=pd.DataFrame(conn()).set_index('id')"
   ]
  },
  {
   "cell_type": "code",
   "execution_count": 5,
   "metadata": {},
   "outputs": [],
   "source": [
    "def f(x):\n",
    "    try:\n",
    "        return x.astype('int')\n",
    "    except:\n",
    "        return x"
   ]
  },
  {
   "cell_type": "markdown",
   "metadata": {},
   "source": [
    "## Odczytanie listy rejstrow"
   ]
  },
  {
   "cell_type": "code",
   "execution_count": 6,
   "metadata": {},
   "outputs": [],
   "source": [
    "def reg():\n",
    "    print('\\n2 :Registers Req\\n')\n",
    "#     displayHeader(headers)  # wystarczy podstawowy naglowek\n",
    "    req2 = registerList(device_adress, headers)  # odczytanie listy rejestrow\n",
    "    return req2\n",
    "# registers=pd.DataFrame(reg())\n",
    "# registers.shape"
   ]
  },
  {
   "cell_type": "markdown",
   "metadata": {},
   "source": [
    "## Odczytanie rejestru z bledami połaczen"
   ]
  },
  {
   "cell_type": "code",
   "execution_count": 7,
   "metadata": {},
   "outputs": [],
   "source": [
    "def reg_val(device_adress, headers):\n",
    "    print('1: Connection Req\\n')\n",
    "#     displayHeader(headers)\n",
    "    req1 = getCurValue(device_adress, headers)  # pobranie listy polaczen plc.\n",
    "    return req1"
   ]
  },
  {
   "cell_type": "code",
   "execution_count": 8,
   "metadata": {
    "scrolled": true
   },
   "outputs": [
    {
     "name": "stdout",
     "output_type": "stream",
     "text": [
      "1: Connection Req\n",
      "\n"
     ]
    },
    {
     "data": {
      "text/plain": [
       "{'4546': {'r': '4546', 's': 'u', 'v': '6,31,72,87,115,120,158,159,162'},\n",
       " '4547': {'r': '4547',\n",
       "  's': 'u',\n",
       "  'v': '(1,44);(2,49);(3,51);(4,50);(5,50);(6,4);(7,52);(8,50);(9,51);(10,49);(11,51);(12,50);(13,50);(14,50);(15,50);(16,50);(17,50);(18,49);(19,51);(20,50);(21,50);(22,50);(23,50);(24,0);(25,0);(26,0);(27,0);(28,0);(29,0);(30,0);(31,3);(32,50);(33,50);(34,51);(35,49);(36,50);(37,50);(38,50);(39,50);(40,52);(41,48);(42,50);(43,50);(44,50);(45,50);(46,50);(47,50);(48,50);(49,50);(50,0);(51,0);(52,0);(53,0);(54,0);(55,0);(56,0);(57,0);(58,0);(59,62);(60,50);(61,50);(62,50);(63,50);(64,50);(65,50);(66,50);(67,50);(68,50);(69,50);(70,49);(71,51);(72,3);(73,51);(74,49);(75,50);(76,50);(77,50);(78,50);(79,50);(80,50);(81,50);(82,51);(83,49);(84,50);(85,50);(86,50);(87,3);(88,49);(89,50);(90,49);(91,56);(92,44);(93,51);(94,49);(95,50);(96,50);(97,50);(98,51);(99,49);(100,49);(101,50);(102,50);(103,50);(104,50);(105,50);(106,50);(107,49);(108,51);(109,50);(110,50);(111,49);(112,51);(113,50);(114,49);(115,3);(116,48);(117,50);(118,50);(119,49);(120,3);(121,46);(122,50);(123,50);(124,50);(125,49);(126,50);(127,51);(128,50);(129,49);(130,51);(131,49);(132,50);(133,51);(134,49);(135,51);(136,51);(137,48);(138,52);(139,48);(140,51);(141,49);(142,50);(143,50);(144,49);(145,50);(146,50);(147,51);(148,50);(149,50);(150,49);(151,51);(152,49);(153,50);(154,49);(155,50);(156,51);(157,50);(158,3);(159,2);(160,46);(161,50);(162,3);(163,61);(164,49);(165,61);(166,49);(167,63);(168,50);(169,50);(170,0);(171,0);(172,50);(173,50);(174,43);(175,51);(176,59);(177,60);(178,60);(179,51);(180,51);(181,49);(182,58);(183,50);(184,51);(185,50);(186,60);(187,49);(188,50);(189,51);(190,59);(191,60);(192,61);(193,59);(194,51);(196,572);(197,570);(198,570);(199,573);(200,570);(201,572);(202,570);(203,580);(204,574);(205,571);(206,570);(207,568);(208,570);(209,0);(210,0);(211,666);(212,669);(213,630);(214,671);(215,670);(216,660);(217,659);(218,661);(225,178);(226,0);(227,0);(228,0);(229,0);(230,0);(231,0);(232,0);(233,0);(234,0);(235,0);(236,571);(237,0);(238,49);(239,51);(240,59);(241,0);(242,61);(243,60);(244,60);(245,70);(246,0);(247,1403);(248,188);(249,669);(250,0);(251,0);(252,179);(253,173);(254,0);(255,173);(256,172);(258,1);(260,0);(261,0)'}}"
      ]
     },
     "execution_count": 8,
     "metadata": {},
     "output_type": "execute_result"
    }
   ],
   "source": [
    "header1=headers\n",
    "header1['X-WH-CONNS']='262' # 262 to numer polaczenia w webHMI\n",
    "val=reg_val(device_adress,header1)\n",
    "val"
   ]
  },
  {
   "cell_type": "code",
   "execution_count": 14,
   "metadata": {},
   "outputs": [
    {
     "name": "stdout",
     "output_type": "stream",
     "text": [
      "(1,44)\n",
      "(2,49)\n",
      "(3,51)\n",
      "(4,50)\n",
      "(5,50)\n",
      "(6,4)\n",
      "(7,52)\n",
      "(8,50)\n",
      "(9,51)\n",
      "(10,49)\n",
      "(11,51)\n",
      "(12,50)\n",
      "(13,50)\n",
      "(14,50)\n",
      "(15,50)\n",
      "(16,50)\n",
      "(17,50)\n",
      "(18,49)\n",
      "(19,51)\n",
      "(20,50)\n",
      "(21,50)\n",
      "(22,50)\n",
      "(23,50)\n",
      "(24,0)\n",
      "(25,0)\n",
      "(26,0)\n",
      "(27,0)\n",
      "(28,0)\n",
      "(29,0)\n",
      "(30,0)\n",
      "(31,3)\n",
      "(32,50)\n",
      "(33,50)\n",
      "(34,51)\n",
      "(35,49)\n",
      "(36,50)\n",
      "(37,50)\n",
      "(38,50)\n",
      "(39,50)\n",
      "(40,52)\n",
      "(41,48)\n",
      "(42,50)\n",
      "(43,50)\n",
      "(44,50)\n",
      "(45,50)\n",
      "(46,50)\n",
      "(47,50)\n",
      "(48,50)\n",
      "(49,50)\n",
      "(50,0)\n",
      "(51,0)\n",
      "(52,0)\n",
      "(53,0)\n",
      "(54,0)\n",
      "(55,0)\n",
      "(56,0)\n",
      "(57,0)\n",
      "(58,0)\n",
      "(59,62)\n",
      "(60,50)\n",
      "(61,50)\n",
      "(62,50)\n",
      "(63,50)\n",
      "(64,50)\n",
      "(65,50)\n",
      "(66,50)\n",
      "(67,50)\n",
      "(68,50)\n",
      "(69,50)\n",
      "(70,49)\n",
      "(71,51)\n",
      "(72,3)\n",
      "(73,51)\n",
      "(74,49)\n",
      "(75,50)\n",
      "(76,50)\n",
      "(77,50)\n",
      "(78,50)\n",
      "(79,50)\n",
      "(80,50)\n",
      "(81,50)\n",
      "(82,51)\n",
      "(83,49)\n",
      "(84,50)\n",
      "(85,50)\n",
      "(86,50)\n",
      "(87,3)\n",
      "(88,49)\n",
      "(89,50)\n",
      "(90,49)\n",
      "(91,56)\n",
      "(92,44)\n",
      "(93,51)\n",
      "(94,49)\n",
      "(95,50)\n",
      "(96,50)\n",
      "(97,50)\n",
      "(98,51)\n",
      "(99,49)\n",
      "(100,49)\n",
      "(101,50)\n",
      "(102,50)\n",
      "(103,50)\n",
      "(104,50)\n",
      "(105,50)\n",
      "(106,50)\n",
      "(107,49)\n",
      "(108,51)\n",
      "(109,50)\n",
      "(110,50)\n",
      "(111,49)\n",
      "(112,51)\n",
      "(113,50)\n",
      "(114,49)\n",
      "(115,3)\n",
      "(116,48)\n",
      "(117,50)\n",
      "(118,50)\n",
      "(119,49)\n",
      "(120,3)\n",
      "(121,46)\n",
      "(122,50)\n",
      "(123,50)\n",
      "(124,50)\n",
      "(125,49)\n",
      "(126,50)\n",
      "(127,51)\n",
      "(128,50)\n",
      "(129,49)\n",
      "(130,51)\n",
      "(131,49)\n",
      "(132,50)\n",
      "(133,51)\n",
      "(134,49)\n",
      "(135,51)\n",
      "(136,51)\n",
      "(137,48)\n",
      "(138,52)\n",
      "(139,48)\n",
      "(140,51)\n",
      "(141,49)\n",
      "(142,50)\n",
      "(143,50)\n",
      "(144,49)\n",
      "(145,50)\n",
      "(146,50)\n",
      "(147,51)\n",
      "(148,50)\n",
      "(149,50)\n",
      "(150,49)\n",
      "(151,51)\n",
      "(152,49)\n",
      "(153,50)\n",
      "(154,49)\n",
      "(155,50)\n",
      "(156,51)\n",
      "(157,50)\n",
      "(158,3)\n",
      "(159,2)\n",
      "(160,46)\n",
      "(161,50)\n",
      "(162,3)\n",
      "(163,61)\n",
      "(164,49)\n",
      "(165,61)\n",
      "(166,49)\n",
      "(167,63)\n",
      "(168,50)\n",
      "(169,50)\n",
      "(170,0)\n",
      "(171,0)\n",
      "(172,50)\n",
      "(173,50)\n",
      "(174,43)\n",
      "(175,51)\n",
      "(176,59)\n",
      "(177,60)\n",
      "(178,60)\n",
      "(179,51)\n",
      "(180,51)\n",
      "(181,49)\n",
      "(182,58)\n",
      "(183,50)\n",
      "(184,51)\n",
      "(185,50)\n",
      "(186,60)\n",
      "(187,49)\n",
      "(188,50)\n",
      "(189,51)\n",
      "(190,59)\n",
      "(191,60)\n",
      "(192,61)\n",
      "(193,59)\n",
      "(194,51)\n",
      "(196,572)\n",
      "(197,570)\n",
      "(198,570)\n",
      "(199,573)\n",
      "(200,570)\n",
      "(201,572)\n",
      "(202,570)\n",
      "(203,580)\n",
      "(204,574)\n",
      "(205,571)\n",
      "(206,570)\n",
      "(207,568)\n",
      "(208,570)\n",
      "(209,0)\n",
      "(210,0)\n",
      "(211,666)\n",
      "(212,669)\n",
      "(213,630)\n",
      "(214,671)\n",
      "(215,670)\n",
      "(216,660)\n",
      "(217,659)\n",
      "(218,661)\n",
      "(225,178)\n",
      "(226,0)\n",
      "(227,0)\n",
      "(228,0)\n",
      "(229,0)\n",
      "(230,0)\n",
      "(231,0)\n",
      "(232,0)\n",
      "(233,0)\n",
      "(234,0)\n",
      "(235,0)\n",
      "(236,571)\n",
      "(237,0)\n",
      "(238,49)\n",
      "(239,51)\n",
      "(240,59)\n",
      "(241,0)\n",
      "(242,61)\n",
      "(243,60)\n",
      "(244,60)\n",
      "(245,70)\n",
      "(246,0)\n",
      "(247,1403)\n",
      "(248,188)\n",
      "(249,669)\n",
      "(250,0)\n",
      "(251,0)\n",
      "(252,179)\n",
      "(253,173)\n",
      "(254,0)\n",
      "(255,173)\n",
      "(256,172)\n",
      "(258,1)\n",
      "(260,0)\n",
      "(261,0)\n"
     ]
    }
   ],
   "source": [
    "for i in val['4547']['v'].split(\";\"):\n",
    "    print()"
   ]
  },
  {
   "cell_type": "code",
   "execution_count": null,
   "metadata": {},
   "outputs": [],
   "source": []
  },
  {
   "cell_type": "markdown",
   "metadata": {},
   "source": [
    "## Nadpisanie pliku wiadomosci"
   ]
  },
  {
   "cell_type": "code",
   "execution_count": 10,
   "metadata": {},
   "outputs": [
    {
     "name": "stdout",
     "output_type": "stream",
     "text": [
      "Błąd połączenia nr 6 - APAR_111.1\n",
      "\n",
      "Błąd połączenia nr 31 - APAR_213.1\n",
      "\n",
      "Błąd połączenia nr 72 - APAR_411.11\n",
      "\n",
      "Błąd połączenia nr 87 - APAR_511.11\n",
      "\n",
      "Błąd połączenia nr 115 - APAR_715.15\n",
      "\n",
      "Błąd połączenia nr 120 - APAR_720.20\n",
      "\n",
      "Błąd połączenia nr 158 - FIF_11.11\n",
      "\n",
      "Błąd połączenia nr 159 - FIF_104.4\n",
      "\n",
      "Błąd połączenia nr 162 - FIF_203.3\n",
      "\n"
     ]
    }
   ],
   "source": [
    "connectio_problem=val['4546']['v'].split(\",\") # wiadomosc do zapisania\n",
    "with open('mail_message.txt', 'w')  as w_writer:\n",
    "    if len(connectio_problem)>1:\n",
    "        for i in connectio_problem:\n",
    "            title = connections.loc[i,'title']\n",
    "            print(\"Błąd połączenia nr {} - {}\\n\".format(i,title ))\n",
    "            mesages=\"Błąd połączenia nr {} - {}\\n\".format(i,title )\n",
    "            w_writer.write(mesages)\n",
    "    else: w_writer.write('Brak problemow z połączeniami. :)')\n",
    "        "
   ]
  },
  {
   "cell_type": "markdown",
   "metadata": {},
   "source": [
    "## Wyslanie maila"
   ]
  },
  {
   "cell_type": "code",
   "execution_count": 11,
   "metadata": {},
   "outputs": [],
   "source": [
    "from envelopes import Envelope, GMailSMTP\n",
    "import glob\n",
    "\n",
    "def send_emial(content):\n",
    "\n",
    "    addr=['tito02@o2.pl', 'norbert.jablonski@elam.pl','michal.marchelewski@elam.pl']\n",
    "    email= u\"WebHMI ma problemy z komunikacją dla następujących urządzeń:\\n{}\".format(str(content))\n",
    "    for i in range(len(addr)):\n",
    "        print('Wysłanie wiadomosci do {}'.format(addr[i]))\n",
    "        envelope = Envelope(\n",
    "            from_addr=( u'WebHMI - Raport'),\n",
    "            to_addr=(addr[i]),\n",
    "            subject=u'Raport o komunikacji {} dla {}'.format(i+1,addr[i]),\n",
    "            text_body=email)\n",
    "        #envelope.add_attachment(str(atachment))\n",
    "\n",
    "    # Send the envelope using an ad-hoc connection...\n",
    "#         envelope.send('smtp.googlemail.com', login='truecapehorn@gmail.com',password='Ptjczinp249', tls=True)\n",
    "        print('email do adresata. {} wysłany.'.format(addr[i]))"
   ]
  },
  {
   "cell_type": "code",
   "execution_count": 12,
   "metadata": {},
   "outputs": [
    {
     "name": "stdout",
     "output_type": "stream",
     "text": [
      "Wysłanie wiadomosci do tito02@o2.pl\n",
      "email do adresata. tito02@o2.pl wysłany.\n",
      "Wysłanie wiadomosci do norbert.jablonski@elam.pl\n",
      "email do adresata. norbert.jablonski@elam.pl wysłany.\n",
      "Wysłanie wiadomosci do michal.marchelewski@elam.pl\n",
      "email do adresata. michal.marchelewski@elam.pl wysłany.\n"
     ]
    }
   ],
   "source": [
    "if len(connectio_problem)>0:\n",
    "    with open('mail_message.txt', 'r') as content_file:\n",
    "        content = content_file.read()\n",
    "        send_emial(content)"
   ]
  },
  {
   "cell_type": "code",
   "execution_count": null,
   "metadata": {},
   "outputs": [],
   "source": []
  },
  {
   "cell_type": "code",
   "execution_count": null,
   "metadata": {},
   "outputs": [],
   "source": []
  },
  {
   "cell_type": "code",
   "execution_count": null,
   "metadata": {},
   "outputs": [],
   "source": []
  }
 ],
 "metadata": {
  "kernelspec": {
   "display_name": "Python 3",
   "language": "python",
   "name": "python3"
  },
  "language_info": {
   "codemirror_mode": {
    "name": "ipython",
    "version": 3
   },
   "file_extension": ".py",
   "mimetype": "text/x-python",
   "name": "python",
   "nbconvert_exporter": "python",
   "pygments_lexer": "ipython3",
   "version": "3.7.3"
  }
 },
 "nbformat": 4,
 "nbformat_minor": 2
}
