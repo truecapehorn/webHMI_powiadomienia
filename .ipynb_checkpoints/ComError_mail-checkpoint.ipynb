{
 "cells": [
  {
   "cell_type": "markdown",
   "metadata": {},
   "source": [
    "## pobrabnie danych z webHMI"
   ]
  },
  {
   "cell_type": "code",
   "execution_count": 1,
   "metadata": {},
   "outputs": [],
   "source": [
    "from API_webHMI import *\n",
    "from defs import *\n",
    "from head import headers, device_adress,filepath\n",
    "import pandas as pd\n",
    "import numpy as np"
   ]
  },
  {
   "cell_type": "code",
   "execution_count": 2,
   "metadata": {},
   "outputs": [],
   "source": [
    "pd.set_option('display.max_columns', None)  # or 1000\n",
    "pd.set_option('display.max_rows', None)  # or 1000\n",
    "pd.set_option('display.max_colwidth', -1)  # or 199"
   ]
  },
  {
   "cell_type": "code",
   "execution_count": 3,
   "metadata": {},
   "outputs": [
    {
     "data": {
      "text/plain": [
       "'/home/norbert/python_scripts/webHMI_powiadomienia/setup.json'"
      ]
     },
     "execution_count": 3,
     "metadata": {},
     "output_type": "execute_result"
    }
   ],
   "source": [
    "filepath"
   ]
  },
  {
   "cell_type": "markdown",
   "metadata": {},
   "source": [
    "## Odczytanie listy połaczen"
   ]
  },
  {
   "cell_type": "code",
   "execution_count": 4,
   "metadata": {},
   "outputs": [
    {
     "name": "stdout",
     "output_type": "stream",
     "text": [
      "1: Connection Req\n",
      "\n"
     ]
    }
   ],
   "source": [
    "def conn():\n",
    "    print('1: Connection Req\\n')\n",
    "#     displayHeader(headers)\n",
    "    req1 = connectionList(device_adress, headers)  # pobranie listy polaczen plc.\n",
    "    return req1\n",
    "connections=pd.DataFrame(conn()).set_index('id')"
   ]
  },
  {
   "cell_type": "code",
   "execution_count": 5,
   "metadata": {},
   "outputs": [],
   "source": [
    "def f(x):\n",
    "    try:\n",
    "        return x.astype('int')\n",
    "    except:\n",
    "        return x"
   ]
  },
  {
   "cell_type": "markdown",
   "metadata": {},
   "source": [
    "## Odczytanie listy rejstrow"
   ]
  },
  {
   "cell_type": "code",
   "execution_count": 6,
   "metadata": {},
   "outputs": [],
   "source": [
    "def reg():\n",
    "    print('\\n2 :Registers Req\\n')\n",
    "#     displayHeader(headers)  # wystarczy podstawowy naglowek\n",
    "    req2 = registerList(device_adress, headers)  # odczytanie listy rejestrow\n",
    "    return req2\n",
    "# registers=pd.DataFrame(reg())\n",
    "# registers.shape"
   ]
  },
  {
   "cell_type": "markdown",
   "metadata": {},
   "source": [
    "## Odczytanie rejestru z bledami połaczen"
   ]
  },
  {
   "cell_type": "code",
   "execution_count": 7,
   "metadata": {},
   "outputs": [],
   "source": [
    "def reg_val(device_adress, headers):\n",
    "    print('1: Connection Req\\n')\n",
    "#     displayHeader(headers)\n",
    "    req1 = getCurValue(device_adress, headers)  # pobranie listy polaczen plc.\n",
    "    return req1"
   ]
  },
  {
   "cell_type": "code",
   "execution_count": 8,
   "metadata": {
    "scrolled": true
   },
   "outputs": [
    {
     "name": "stdout",
     "output_type": "stream",
     "text": [
      "1: Connection Req\n",
      "\n"
     ]
    }
   ],
   "source": [
    "header1=headers\n",
    "header1['X-WH-CONNS']='262' # 262 to numer polaczenia w webHMI\n",
    "val=reg_val(device_adress,header1)"
   ]
  },
  {
   "cell_type": "markdown",
   "metadata": {},
   "source": [
    "## Odczytanie tablicy z scantime"
   ]
  },
  {
   "cell_type": "code",
   "execution_count": 9,
   "metadata": {},
   "outputs": [],
   "source": [
    "import ast\n",
    "scan_time=[ast.literal_eval(x) for x in val['4547']['v'].split(\";\")]"
   ]
  },
  {
   "cell_type": "markdown",
   "metadata": {},
   "source": [
    "## Stworzenie tablicy"
   ]
  },
  {
   "cell_type": "code",
   "execution_count": 10,
   "metadata": {},
   "outputs": [],
   "source": [
    "scan_dict={}\n",
    "for n,i in enumerate(scan_time):\n",
    "    scan_dict[n]={'ids':i[0],\n",
    "                  'title':connections.loc[str(i[0]),'title'],\n",
    "                  'category':connections.loc[str(i[0]),'category'],\n",
    "                  'timeout':connections.loc[str(i[0]),'timeout'],\n",
    "                  'disabled':connections.loc[str(i[0]),'disabled'],\n",
    "                  'scan_time':int(i[1])}"
   ]
  },
  {
   "cell_type": "code",
   "execution_count": 11,
   "metadata": {},
   "outputs": [],
   "source": [
    "scan_frame=pd.DataFrame(scan_dict,).T.apply(f)\n",
    "frame=scan_frame.sort_values('scan_time',ascending=False)"
   ]
  },
  {
   "cell_type": "code",
   "execution_count": 12,
   "metadata": {},
   "outputs": [],
   "source": [
    "pivot_sum=frame[['category','scan_time']].groupby('category').agg(['sum','mean'])"
   ]
  },
  {
   "cell_type": "code",
   "execution_count": 13,
   "metadata": {
    "scrolled": true
   },
   "outputs": [],
   "source": [
    "pivot_sum.sort_values(('scan_time','sum'),ascending=False,inplace=True)"
   ]
  },
  {
   "cell_type": "markdown",
   "metadata": {},
   "source": [
    "## Nadpisanie pliku wiadomosci"
   ]
  },
  {
   "cell_type": "code",
   "execution_count": 14,
   "metadata": {},
   "outputs": [],
   "source": [
    "connectio_problem=val['4546']['v'].split(\",\") # wiadomosc do zapisania\n",
    "with open('mail_message.txt', 'w')  as w_writer:\n",
    "    if len(connectio_problem)>1:\n",
    "        for i in connectio_problem:\n",
    "            title = connections.loc[i,'title']\n",
    "#             print(\"Błąd połączenia nr {} - {}\\n\".format(i,title ))\n",
    "            mesages=\"<p>Błąd połączenia nr {} - {}</p>\\n\".format(i,title )\n",
    "            w_writer.write(mesages)\n",
    "    else: w_writer.write('<h3>Brak problemow z połączeniami. :)</h3>\\n\\n')\n",
    "        "
   ]
  },
  {
   "cell_type": "markdown",
   "metadata": {},
   "source": [
    "## Wyslanie maila"
   ]
  },
  {
   "cell_type": "code",
   "execution_count": 15,
   "metadata": {},
   "outputs": [],
   "source": [
    "from envelopes import Envelope, GMailSMTP\n",
    "import glob\n",
    "\n",
    "def send_emial(content):\n",
    "\n",
    "    addr=['tito02@o2.pl', 'norbert.jablonski@elam.pl','michal.marchelewski@elam.pl']\n",
    "    for i in range(len(addr)):\n",
    "        print('Wysłanie wiadomosci do {}'.format(addr[i]))\n",
    "        envelope = Envelope(\n",
    "            from_addr=( u'WebHMI - Raport'),\n",
    "            to_addr=(addr[i]),\n",
    "            subject=u'Raport o komunikacji {} dla {}'.format(i+1,addr[i]),\n",
    "            html_body=email,\n",
    "#             text_body=email\n",
    "        )\n",
    "        #envelope.add_attachment(str(atachment))\n",
    "\n",
    "    # Send the envelope using an ad-hoc connection...\n",
    "        send_msg=envelope.send('smtp.googlemail.com', login='truecapehorn@gmail.com',password='Ptjczinp249', tls=True,)\n",
    "        print('email do adresata. {} wysłany.'.format(addr[i]))  \n",
    "    return send_msg"
   ]
  },
  {
   "cell_type": "code",
   "execution_count": 16,
   "metadata": {},
   "outputs": [
    {
     "name": "stdout",
     "output_type": "stream",
     "text": [
      "<h2>WebHMI ma problemy z komunikacją dla następujących urządzeń:</h2>\n",
      "<h3>Brak problemow z połączeniami. :)</h3>\n",
      "\n",
      "\n",
      "<h4>Czasy skanowania</h4>\n",
      "<table border=\"1\" class=\"dataframe\">\n",
      "  <thead>\n",
      "    <tr>\n",
      "      <th></th>\n",
      "      <th colspan=\"2\" halign=\"left\">scan_time</th>\n",
      "    </tr>\n",
      "    <tr>\n",
      "      <th></th>\n",
      "      <th>sum</th>\n",
      "      <th>mean</th>\n",
      "    </tr>\n",
      "    <tr>\n",
      "      <th>category</th>\n",
      "      <th></th>\n",
      "      <th></th>\n",
      "    </tr>\n",
      "  </thead>\n",
      "  <tbody>\n",
      "    <tr>\n",
      "      <th>0 RG</th>\n",
      "      <td>9669</td>\n",
      "      <td>205.723404</td>\n",
      "    </tr>\n",
      "    <tr>\n",
      "      <th>7 Mieszkanie</th>\n",
      "      <td>3147</td>\n",
      "      <td>59.377358</td>\n",
      "    </tr>\n",
      "    <tr>\n",
      "      <th>1 Mieszkanie</th>\n",
      "      <td>2766</td>\n",
      "      <td>89.225806</td>\n",
      "    </tr>\n",
      "    <tr>\n",
      "      <th>3 Mieszkanie</th>\n",
      "      <td>2623</td>\n",
      "      <td>114.043478</td>\n",
      "    </tr>\n",
      "    <tr>\n",
      "      <th>2 Mieszkanie</th>\n",
      "      <td>2330</td>\n",
      "      <td>66.571429</td>\n",
      "    </tr>\n",
      "    <tr>\n",
      "      <th>5 Mieszkanie</th>\n",
      "      <td>1938</td>\n",
      "      <td>102.000000</td>\n",
      "    </tr>\n",
      "    <tr>\n",
      "      <th>4 Mieszkanie</th>\n",
      "      <td>1603</td>\n",
      "      <td>76.333333</td>\n",
      "    </tr>\n",
      "    <tr>\n",
      "      <th>6 Mieszkanie</th>\n",
      "      <td>1581</td>\n",
      "      <td>75.285714</td>\n",
      "    </tr>\n",
      "    <tr>\n",
      "      <th>Bilans</th>\n",
      "      <td>0</td>\n",
      "      <td>0.000000</td>\n",
      "    </tr>\n",
      "    <tr>\n",
      "      <th>Solary</th>\n",
      "      <td>0</td>\n",
      "      <td>0.000000</td>\n",
      "    </tr>\n",
      "  </tbody>\n",
      "</table>\n",
      "Wysłanie wiadomosci do tito02@o2.pl\n",
      "email do adresata. tito02@o2.pl wysłany.\n",
      "Wysłanie wiadomosci do norbert.jablonski@elam.pl\n",
      "email do adresata. norbert.jablonski@elam.pl wysłany.\n",
      "Wysłanie wiadomosci do michal.marchelewski@elam.pl\n",
      "email do adresata. michal.marchelewski@elam.pl wysłany.\n"
     ]
    }
   ],
   "source": [
    "if len(connectio_problem)>0:\n",
    "    with open('mail_message.txt', 'r') as content_file:\n",
    "        content = content_file.read()\n",
    "        email= u\"<h2>WebHMI ma problemy z komunikacją dla następujących urządzeń:</h2>\\n{}\\n<h4>Czasy skanowania</h4>\\n{}\".format(str(content),pivot_sum.to_html())\n",
    "        print(email)\n",
    "        send_msg=send_emial(email)"
   ]
  },
  {
   "cell_type": "code",
   "execution_count": null,
   "metadata": {},
   "outputs": [],
   "source": []
  },
  {
   "cell_type": "code",
   "execution_count": null,
   "metadata": {},
   "outputs": [],
   "source": []
  }
 ],
 "metadata": {
  "kernelspec": {
   "display_name": "Python 3",
   "language": "python",
   "name": "python3"
  },
  "language_info": {
   "codemirror_mode": {
    "name": "ipython",
    "version": 3
   },
   "file_extension": ".py",
   "mimetype": "text/x-python",
   "name": "python",
   "nbconvert_exporter": "python",
   "pygments_lexer": "ipython3",
   "version": "3.7.3"
  }
 },
 "nbformat": 4,
 "nbformat_minor": 2
}
